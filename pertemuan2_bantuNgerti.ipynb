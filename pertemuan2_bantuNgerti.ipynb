{
 "cells": [
  {
   "cell_type": "markdown",
   "metadata": {},
   "source": [
    "### Seguantial Programming dan Looping"
   ]
  },
  {
   "cell_type": "markdown",
   "metadata": {},
   "source": [
    "### Sequential Programming"
   ]
  },
  {
   "cell_type": "markdown",
   "metadata": {},
   "source": [
    "if"
   ]
  },
  {
   "cell_type": "code",
   "execution_count": 3,
   "metadata": {},
   "outputs": [
    {
     "name": "stdout",
     "output_type": "stream",
     "text": [
      "tinggi lebih besar dari alas\n"
     ]
    }
   ],
   "source": [
    "tinggi=8\n",
    "alas=7\n",
    "\n",
    "if(tinggi>alas):\n",
    "    print('tinggi lebih besar dari alas')\n",
    "else:\n",
    "    print('alas lebih besar dari tinggi')"
   ]
  },
  {
   "cell_type": "markdown",
   "metadata": {},
   "source": [
    "if conditional else"
   ]
  },
  {
   "cell_type": "code",
   "execution_count": 2,
   "metadata": {},
   "outputs": [
    {
     "name": "stdout",
     "output_type": "stream",
     "text": [
      "x adalah bilangan positif\n"
     ]
    }
   ],
   "source": [
    "#elif adalah else if\n",
    "x=10\n",
    "if(x>0):\n",
    "    print(\"x adalah bilangan positif\")\n",
    "elif (x==0):\n",
    "    print(\"x adalah nol\")\n",
    "else:\n",
    "    print(\"x adalah bilangan negatif\")"
   ]
  },
  {
   "cell_type": "code",
   "execution_count": 4,
   "metadata": {},
   "outputs": [
    {
     "name": "stdout",
     "output_type": "stream",
     "text": [
      "ini adalah bilangan positif\n"
     ]
    }
   ],
   "source": [
    "angka=3\n",
    "\n",
    "if(angka>0):\n",
    "    print(\"ini adalah bilangan positif\")\n",
    "elif (angka==0):\n",
    "    print(\"ini adalah angka 0\")\n",
    "else:\n",
    "    print (\"ini adalah bilangan negatif\")"
   ]
  },
  {
   "cell_type": "markdown",
   "metadata": {},
   "source": [
    "if else dengan tambahan operator AND dan OR"
   ]
  },
  {
   "cell_type": "code",
   "execution_count": 6,
   "metadata": {},
   "outputs": [
    {
     "name": "stdout",
     "output_type": "stream",
     "text": [
      "ini adalah bilangan positif\n"
     ]
    }
   ],
   "source": [
    "#AND \n",
    "angka=3\n",
    "if(angka>0) and(angka>2):\n",
    "    print(\"ini adalah bilangan positif\")\n",
    "else:\n",
    "    print(\"ini adalah bilangan negatif\")"
   ]
  },
  {
   "cell_type": "code",
   "execution_count": 8,
   "metadata": {},
   "outputs": [
    {
     "name": "stdout",
     "output_type": "stream",
     "text": [
      "ini adalah bilangan lebih basar dari 0 dan positif\n"
     ]
    }
   ],
   "source": [
    "#AND \n",
    "angka=1\n",
    "if(angka>0) and(angka>2):\n",
    "    print(\"ini adalah bilangan positif dan lebih besar dari 2\")\n",
    "else:\n",
    "    print(\"ini adalah bilangan lebih basar dari 0 dan positif\")"
   ]
  },
  {
   "cell_type": "code",
   "execution_count": 10,
   "metadata": {},
   "outputs": [
    {
     "name": "stdout",
     "output_type": "stream",
     "text": [
      "3\n",
      "1\n",
      "masuk pertama\n",
      "100\n",
      "10022\n"
     ]
    }
   ],
   "source": [
    "#OR\n",
    "angka=3\n",
    "print(angka)\n",
    "angka=1\n",
    "print(angka)\n",
    "if(angka>0) or(angka>2):\n",
    "    print(\"masuk pertama\")\n",
    "else:\n",
    "    print(\"masuk kedua\")\n",
    "angka=angka*100\n",
    "VariabelBaru=10022\n",
    "print(angka)\n",
    "print(VariabelBaru)"
   ]
  },
  {
   "cell_type": "markdown",
   "metadata": {},
   "source": [
    "### Looping (Perulangan)"
   ]
  },
  {
   "cell_type": "markdown",
   "metadata": {},
   "source": [
    "Konsep looping atau perulangan adalah menjalankan satu atau beberapa baris kode secara berulang-ulang sampai kondisi tertentu terpenuhi atau selama kondisi tertentu tetap benar"
   ]
  },
  {
   "cell_type": "code",
   "execution_count": 15,
   "metadata": {},
   "outputs": [
    {
     "name": "stdout",
     "output_type": "stream",
     "text": [
      "apel\n",
      "jeruk\n",
      "mangga\n"
     ]
    }
   ],
   "source": [
    "#Menggunakan for loop untuk mengiterasi elemen dalam list\n",
    "buah=[\"apel\",\"jeruk\",\"mangga\"]\n",
    "for item in buah:\n",
    "    print(item)\n",
    "\n"
   ]
  },
  {
   "cell_type": "code",
   "execution_count": 16,
   "metadata": {},
   "outputs": [
    {
     "name": "stdout",
     "output_type": "stream",
     "text": [
      "0\n",
      "1\n",
      "2\n",
      "3\n",
      "4\n"
     ]
    }
   ],
   "source": [
    "#Menggunakan for loop dengan range untuk mengulangi sejumlsh tertentu\n",
    "for i in range(5):\n",
    "    print(i)"
   ]
  },
  {
   "cell_type": "code",
   "execution_count": 20,
   "metadata": {},
   "outputs": [
    {
     "name": "stdout",
     "output_type": "stream",
     "text": [
      "0\n",
      "2\n",
      "4\n",
      "6\n",
      "8\n"
     ]
    }
   ],
   "source": [
    "#Menggunakan for loop dengan range untuk mengulangi sejumlsh tertentu\n",
    "for i in range(5):\n",
    "    print(i*2)"
   ]
  },
  {
   "cell_type": "code",
   "execution_count": 17,
   "metadata": {},
   "outputs": [
    {
     "name": "stdout",
     "output_type": "stream",
     "text": [
      "['komik', 'pulpen', 'kunci']\n"
     ]
    }
   ],
   "source": [
    "keranjang=['komik','pulpen','kunci']\n",
    "print(keranjang)\n"
   ]
  },
  {
   "cell_type": "code",
   "execution_count": 19,
   "metadata": {},
   "outputs": [
    {
     "name": "stdout",
     "output_type": "stream",
     "text": [
      "komik\n",
      "pulpen\n",
      "kunci\n"
     ]
    }
   ],
   "source": [
    "for item in keranjang:\n",
    "    print(item)"
   ]
  },
  {
   "cell_type": "code",
   "execution_count": 21,
   "metadata": {},
   "outputs": [
    {
     "name": "stdout",
     "output_type": "stream",
     "text": [
      "aheng\n",
      "aheng\n",
      "aheng\n",
      "aheng\n",
      "aheng\n"
     ]
    }
   ],
   "source": [
    "for variable in range(5):\n",
    "    print(\"aheng\")"
   ]
  },
  {
   "cell_type": "markdown",
   "metadata": {},
   "source": [
    "for pada data frame"
   ]
  },
  {
   "cell_type": "code",
   "execution_count": 24,
   "metadata": {},
   "outputs": [
    {
     "name": "stdout",
     "output_type": "stream",
     "text": [
      "        Nama  Usia       Pekerjaan      Gaji\n",
      "0  Andrianto    34  Data Scientist   8000000\n",
      "1       Budi    28        Engineer   7000000\n",
      "2      Citra    25        Designer   6000000\n",
      "3       Dewi    30         Manager  10000000\n",
      "4        Eka    22         Analyst   5000000\n"
     ]
    }
   ],
   "source": [
    "import pandas as pd\n",
    "\n",
    "#membuat data dummy\n",
    "data ={\n",
    "'Nama': ['Andrianto','Budi', 'Citra','Dewi','Eka'],\n",
    "'Usia' : [34,28,25,30,22],\n",
    "'Pekerjaan' : ['Data Scientist','Engineer','Designer','Manager','Analyst'],\n",
    "'Gaji': [8000000,7000000,6000000,10000000,5000000]\n",
    "}\n",
    "\n",
    "#Membuat DataFrame\n",
    "df=pd.DataFrame(data)\n",
    "\n",
    "#Menampilkan DataFrame\n",
    "print(df)"
   ]
  },
  {
   "cell_type": "code",
   "execution_count": 25,
   "metadata": {},
   "outputs": [
    {
     "name": "stdout",
     "output_type": "stream",
     "text": [
      "Nama\n",
      "Usia\n",
      "Pekerjaan\n",
      "Gaji\n"
     ]
    }
   ],
   "source": [
    "for i in df:\n",
    "    print(i)"
   ]
  },
  {
   "cell_type": "code",
   "execution_count": 34,
   "metadata": {},
   "outputs": [
    {
     "name": "stdout",
     "output_type": "stream",
     "text": [
      "Nama              Andrianto\n",
      "Usia                     34\n",
      "Pekerjaan    Data Scientist\n",
      "Gaji                8000000\n",
      "Name: 0, dtype: object\n",
      "Nama             Budi\n",
      "Usia               28\n",
      "Pekerjaan    Engineer\n",
      "Gaji          7000000\n",
      "Name: 1, dtype: object\n",
      "Nama            Citra\n",
      "Usia               25\n",
      "Pekerjaan    Designer\n",
      "Gaji          6000000\n",
      "Name: 2, dtype: object\n",
      "Nama             Dewi\n",
      "Usia               30\n",
      "Pekerjaan     Manager\n",
      "Gaji         10000000\n",
      "Name: 3, dtype: object\n",
      "Nama             Eka\n",
      "Usia              22\n",
      "Pekerjaan    Analyst\n",
      "Gaji         5000000\n",
      "Name: 4, dtype: object\n"
     ]
    }
   ],
   "source": [
    "for i in range(len(df)):\n",
    "    print(df.iloc[i])\n",
    "    "
   ]
  },
  {
   "cell_type": "markdown",
   "metadata": {},
   "source": [
    "GABUNGAN LOOPING (FOR ATAU WHILE) DAN SEQUENTIAL (IF)"
   ]
  },
  {
   "cell_type": "code",
   "execution_count": 36,
   "metadata": {},
   "outputs": [
    {
     "name": "stdout",
     "output_type": "stream",
     "text": [
      "4 : lebih besar dari 3 dan positif\n"
     ]
    }
   ],
   "source": [
    "for variable in range(5):\n",
    "    if(variable>3):\n",
    "        print(str(variable)+\" : lebih besar dari 3 dan positif\")"
   ]
  },
  {
   "cell_type": "code",
   "execution_count": null,
   "metadata": {},
   "outputs": [],
   "source": [
    "#INFINITE LOOP\n",
    "#angkaBaru=100\n",
    "#while(angkaBaru>0):\n",
    "    #Print(angkaBaru)"
   ]
  },
  {
   "cell_type": "code",
   "execution_count": 39,
   "metadata": {},
   "outputs": [
    {
     "name": "stdout",
     "output_type": "stream",
     "text": [
      "100\n",
      "80\n",
      "60\n",
      "40\n",
      "20\n"
     ]
    }
   ],
   "source": [
    "#INFINITE LOOP\n",
    "angkaBaru=100\n",
    "while(angkaBaru>0):\n",
    "    print(angkaBaru)\n",
    "    angkaBaru=angkaBaru-20"
   ]
  },
  {
   "cell_type": "code",
   "execution_count": 63,
   "metadata": {},
   "outputs": [
    {
     "name": "stdout",
     "output_type": "stream",
     "text": [
      "0\n",
      "1\n"
     ]
    }
   ],
   "source": [
    "# + - / *\n",
    "# %\n",
    "print(4%2)\n",
    "print(3%2)\n"
   ]
  },
  {
   "cell_type": "markdown",
   "metadata": {},
   "source": [
    "### Basic Problem Solving"
   ]
  },
  {
   "cell_type": "markdown",
   "metadata": {},
   "source": [
    "Soal 1:\n",
    "Buatlah coding python untuk menghitung jumlah angka ganjil dari suatu list.\n",
    "list_angka={5,7,8,9,10,12,16,18,19,21}\n",
    "angka yang ganjil pada list tersebut adalah 5,7,9,19,21, sehingga keluaran program 61"
   ]
  },
  {
   "cell_type": "code",
   "execution_count": 60,
   "metadata": {},
   "outputs": [
    {
     "name": "stdout",
     "output_type": "stream",
     "text": [
      "61\n"
     ]
    }
   ],
   "source": [
    "#Jawaban Soal 1 \n",
    "list_angka=[5,7,8,9,10,12,16,18,19,21]\n",
    "total_ganjil = 0\n",
    "for i in list_angka:\n",
    "    if(i%2!=0):\n",
    "        total_ganjil += i\n",
    "print(total_ganjil)"
   ]
  },
  {
   "cell_type": "code",
   "execution_count": 61,
   "metadata": {},
   "outputs": [
    {
     "name": "stdout",
     "output_type": "stream",
     "text": [
      "Jumlah angka ganjil dari list adalah: 61\n"
     ]
    }
   ],
   "source": [
    "#Jawaban Soal 2 (Menggunakan  function)\n",
    "def hitung_jumlah_ganjil(list_angka):\n",
    "    total_ganjil = 0\n",
    "    for angka in list_angka:\n",
    "        if angka % 2 != 0:  # Cek apakah angka ganjil\n",
    "            total_ganjil += angka\n",
    "    return total_ganjil\n",
    "\n",
    "# Memanggil fungsi dan mencetak hasil\n",
    "list_angka=[5,7,8,9,10,12,16,18,19,21]\n",
    "jumlah_ganjil = hitung_jumlah_ganjil(list_angka)\n",
    "print(\"Jumlah angka ganjil dari list adalah:\", jumlah_ganjil)"
   ]
  },
  {
   "cell_type": "markdown",
   "metadata": {},
   "source": [
    "Soal 2:\n",
    "Anda bekerja dengan data fintech transaksi terhadap nasabah. Data datang dengan format berikut: list_nilai =\n",
    "[(‘Aku’,-90),(‘Aku’,-50),(‘Kamu’,75),(‘Dia’,80),(‘Aku’,55)] data ini hanyalah dummy untuk kebutuhan belajar.\n",
    "Data tersebut menunjukkan bahwa Aku melakukan transaksi yang mengurangi saldonya sebanyak 90, kemudian\n",
    "Aku mengurangi saldonya lagi sebanyak 50, setelah itu Kamu mendapatkan saldo sebanyak 75, lalu Dia dapat 80\n",
    "dan Aku mendapat 55.\n",
    "Diberikan data saldo awal sebagai berikut, saldo_awal = {‘Aku’:600,’Kamu’:570,’Dia’:655}\n",
    "Buatlah kode untuk menghitung saldo akhir dari setiap orang. Hasil akhir berupa dictionary dengan format serupa\n",
    "dengan variabel saldo_awal"
   ]
  },
  {
   "cell_type": "code",
   "execution_count": 62,
   "metadata": {},
   "outputs": [
    {
     "name": "stdout",
     "output_type": "stream",
     "text": [
      "Saldo akhir setiap orang:\n",
      "{'Aku': 515, 'Kamu': 645, 'Dia': 735}\n"
     ]
    }
   ],
   "source": [
    "list_nilai = [('Aku', -90), ('Aku', -50), ('Kamu', 75), ('Dia', 80), ('Aku', 55)]\n",
    "saldo_awal = {'Aku': 600, 'Kamu': 570, 'Dia': 655}\n",
    "saldo_akhir = saldo_awal.copy()\n",
    "\n",
    "# Menghitung saldo akhir\n",
    "for nama, nilai in list_nilai:\n",
    "    saldo_akhir[nama] += nilai\n",
    "\n",
    "print(\"Saldo akhir setiap orang:\")\n",
    "print(saldo_akhir)"
   ]
  },
  {
   "cell_type": "markdown",
   "metadata": {},
   "source": [
    "Soal 3:\n",
    "Dari list_angka [5,7,8,9,10,12,16,18,19,21]\n",
    "tentukan mana yang merupakan angka ganjil dan angka genap"
   ]
  },
  {
   "cell_type": "markdown",
   "metadata": {},
   "source": [
    "hint:\n",
    "1. looping list\n",
    "2. if (modulo by 2) ada sisa ganjil , ga ada sisa genap\n",
    "3. print(angka)"
   ]
  },
  {
   "cell_type": "code",
   "execution_count": 66,
   "metadata": {},
   "outputs": [
    {
     "name": "stdout",
     "output_type": "stream",
     "text": [
      "5: adalah angka ganjil\n",
      "7: adalah angka ganjil\n",
      "8: adalah angka genap\n",
      "9: adalah angka ganjil\n",
      "10: adalah angka genap\n",
      "12: adalah angka genap\n",
      "16: adalah angka genap\n",
      "18: adalah angka genap\n",
      "19: adalah angka ganjil\n",
      "21: adalah angka ganjil\n"
     ]
    }
   ],
   "source": [
    "list_angka=[5,7,8,9,10,12,16,18,19,21]\n",
    "for item in list_angka:\n",
    "    if(item%2==0):\n",
    "        print(str(item)+ \": adalah angka genap\")\n",
    "    if(item%2==1):\n",
    "        print(str(item)+ \": adalah angka ganjil\")  "
   ]
  },
  {
   "cell_type": "code",
   "execution_count": 67,
   "metadata": {},
   "outputs": [
    {
     "name": "stdout",
     "output_type": "stream",
     "text": [
      "5: adalah angka ganjil\n",
      "7: adalah angka ganjil\n",
      "8: adalah angka genap\n",
      "9: adalah angka ganjil\n",
      "10: adalah angka genap\n",
      "12: adalah angka genap\n",
      "16: adalah angka genap\n",
      "18: adalah angka genap\n",
      "19: adalah angka ganjil\n",
      "21: adalah angka ganjil\n"
     ]
    }
   ],
   "source": [
    "list_angka=[5,7,8,9,10,12,16,18,19,21]\n",
    "for item in list_angka:\n",
    "    if(item%2==0):\n",
    "        print(str(item)+ \": adalah angka genap\")\n",
    "    else:\n",
    "        print(str(item)+ \": adalah angka ganjil\")  "
   ]
  },
  {
   "cell_type": "markdown",
   "metadata": {},
   "source": [
    "### Function"
   ]
  },
  {
   "cell_type": "markdown",
   "metadata": {},
   "source": [
    "Fungction menyimpan sebuah instruksi"
   ]
  },
  {
   "cell_type": "code",
   "execution_count": 68,
   "metadata": {},
   "outputs": [],
   "source": [
    "#ga keluar apa apa#contoh function parameter kosong\n",
    "def functionAheng():\n",
    "    print(\"halo aheng!\")"
   ]
  },
  {
   "cell_type": "code",
   "execution_count": 70,
   "metadata": {},
   "outputs": [
    {
     "name": "stdout",
     "output_type": "stream",
     "text": [
      "halo aheng!\n"
     ]
    }
   ],
   "source": [
    "functionAheng()"
   ]
  },
  {
   "cell_type": "code",
   "execution_count": 71,
   "metadata": {},
   "outputs": [],
   "source": [
    "#contong function dengan parameter\n",
    "def parameterFunction(nilaiAngka):\n",
    "    print(nilaiAngka)"
   ]
  },
  {
   "cell_type": "code",
   "execution_count": 72,
   "metadata": {},
   "outputs": [
    {
     "name": "stdout",
     "output_type": "stream",
     "text": [
      "29\n"
     ]
    }
   ],
   "source": [
    "parameterFunction(29)"
   ]
  },
  {
   "cell_type": "code",
   "execution_count": 73,
   "metadata": {},
   "outputs": [],
   "source": [
    "def parameterFunctionBaru(nilaiAngka,nilaiAngkaBaru):\n",
    "    print(nilaiAngka+nilaiAngkaBaru)"
   ]
  },
  {
   "cell_type": "code",
   "execution_count": 74,
   "metadata": {},
   "outputs": [
    {
     "name": "stdout",
     "output_type": "stream",
     "text": [
      "9\n"
     ]
    }
   ],
   "source": [
    "#Memanggil function\n",
    "parameterFunctionBaru(5,4)"
   ]
  },
  {
   "cell_type": "code",
   "execution_count": 77,
   "metadata": {},
   "outputs": [],
   "source": [
    "#function dengan nilai parameter default\n",
    "def parameterFunctionBaruLagi(nilaiAngka=10,nilaiAngkaBaru=3):\n",
    "    print(nilaiAngka+nilaiAngkaBaru)"
   ]
  },
  {
   "cell_type": "code",
   "execution_count": 78,
   "metadata": {},
   "outputs": [
    {
     "name": "stdout",
     "output_type": "stream",
     "text": [
      "13\n"
     ]
    }
   ],
   "source": [
    "#memanggil function dengan nilai parameter default\n",
    "parameterFunctionBaruLagi()"
   ]
  },
  {
   "cell_type": "code",
   "execution_count": 81,
   "metadata": {},
   "outputs": [],
   "source": [
    "#function dengan return\n",
    "#return hasil akhir dari pemrosesan\n",
    "def fungsiPakeReturn():\n",
    "    return \"halo bro\""
   ]
  },
  {
   "cell_type": "code",
   "execution_count": 82,
   "metadata": {},
   "outputs": [
    {
     "name": "stdout",
     "output_type": "stream",
     "text": [
      "halo bro\n"
     ]
    }
   ],
   "source": [
    "variabelAheng=fungsiPakeReturn()\n",
    "print(variabelAheng)"
   ]
  },
  {
   "cell_type": "code",
   "execution_count": 83,
   "metadata": {},
   "outputs": [],
   "source": [
    "#function dengan return\n",
    "def fungsiPakeReturnHalo(angka):\n",
    "    return \"halo bro\""
   ]
  },
  {
   "cell_type": "code",
   "execution_count": 86,
   "metadata": {},
   "outputs": [
    {
     "name": "stdout",
     "output_type": "stream",
     "text": [
      "halo bro\n"
     ]
    }
   ],
   "source": [
    "variabelAheng=fungsiPakeReturnHalo(19)\n",
    "print(variabelAheng)"
   ]
  },
  {
   "cell_type": "code",
   "execution_count": 87,
   "metadata": {},
   "outputs": [],
   "source": [
    "#error karena saat memanggil tidak ada angka\n",
    "#variabelAheng=fungsiPakeReturnHalo()\n",
    "#print(variabelAheng)"
   ]
  },
  {
   "cell_type": "code",
   "execution_count": 91,
   "metadata": {},
   "outputs": [],
   "source": [
    "#bisa juga return berupa operasi\n",
    "def fungsiPakeReturnHalo(angka):\n",
    "    return angka**2/1000%5"
   ]
  },
  {
   "cell_type": "code",
   "execution_count": 92,
   "metadata": {},
   "outputs": [
    {
     "name": "stdout",
     "output_type": "stream",
     "text": [
      "0.361\n"
     ]
    }
   ],
   "source": [
    "variabelAheng=fungsiPakeReturnHalo(19)\n",
    "print(variabelAheng)"
   ]
  },
  {
   "cell_type": "code",
   "execution_count": 93,
   "metadata": {},
   "outputs": [],
   "source": [
    "#biar rapi menggunakan penampung function\n",
    "def fungsiPakeReturnHalo(angka):\n",
    "    penampungFunction=angka**2/1000%5\n",
    "    return penampungFunction"
   ]
  },
  {
   "cell_type": "code",
   "execution_count": 94,
   "metadata": {},
   "outputs": [
    {
     "name": "stdout",
     "output_type": "stream",
     "text": [
      "0.361\n"
     ]
    }
   ],
   "source": [
    "variabelAheng=fungsiPakeReturnHalo(19)\n",
    "print(variabelAheng)"
   ]
  },
  {
   "cell_type": "code",
   "execution_count": 97,
   "metadata": {},
   "outputs": [
    {
     "name": "stdout",
     "output_type": "stream",
     "text": [
      "coding\n",
      "basket\n"
     ]
    }
   ],
   "source": [
    "#di python harus memperhatikan indensasi\n",
    "for kegiatan in ['coding','basket']:\n",
    "    print(kegiatan)\n"
   ]
  },
  {
   "cell_type": "code",
   "execution_count": 100,
   "metadata": {},
   "outputs": [
    {
     "name": "stdout",
     "output_type": "stream",
     "text": [
      "5: adalah angka ganjil\n",
      "7: adalah angka ganjil\n",
      "8: adalah angka genap\n",
      "9: adalah angka ganjil\n",
      "10: adalah angka genap\n",
      "12: adalah angka genap\n",
      "16: adalah angka genap\n",
      "18: adalah angka genap\n",
      "19: adalah angka ganjil\n",
      "21: adalah angka ganjil\n",
      "5: adalah angka ganjil\n",
      "7: adalah angka ganjil\n",
      "8: adalah angka genap\n",
      "9: adalah angka ganjil\n",
      "10: adalah angka genap\n",
      "12: adalah angka genap\n",
      "16: adalah angka genap\n",
      "18: adalah angka genap\n",
      "19: adalah angka ganjil\n",
      "21: adalah angka ganjil\n"
     ]
    }
   ],
   "source": [
    "def lihatAngkaGenapGanjil(list_Angka):\n",
    "    for item in list_angka:\n",
    "        if(item%2==0):\n",
    "            print(str(item)+ \": adalah angka genap\")\n",
    "        else:\n",
    "            print(str(item)+ \": adalah angka ganjil\") \n",
    "lihatAngkaGenapGanjil([5,7,8,9,10,12,16,18,19,21])\n",
    "lihatAngkaGenapGanjil([5,7,8,9,10,122,116,185,193,221])"
   ]
  }
 ],
 "metadata": {
  "kernelspec": {
   "display_name": "Python 3",
   "language": "python",
   "name": "python3"
  },
  "language_info": {
   "codemirror_mode": {
    "name": "ipython",
    "version": 3
   },
   "file_extension": ".py",
   "mimetype": "text/x-python",
   "name": "python",
   "nbconvert_exporter": "python",
   "pygments_lexer": "ipython3",
   "version": "3.11.4"
  }
 },
 "nbformat": 4,
 "nbformat_minor": 2
}
